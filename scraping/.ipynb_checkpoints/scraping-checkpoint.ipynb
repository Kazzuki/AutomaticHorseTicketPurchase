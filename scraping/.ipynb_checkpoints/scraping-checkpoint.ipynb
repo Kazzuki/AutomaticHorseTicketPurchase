{
 "cells": [
  {
   "cell_type": "code",
   "execution_count": 6,
   "metadata": {},
   "outputs": [
    {
     "name": "stdout",
     "output_type": "stream",
     "text": [
      "Requirement already satisfied: beautifulsoup4 in /Users/kazuki/opt/anaconda3/lib/python3.7/site-packages (4.8.2)\n",
      "Requirement already satisfied: soupsieve>=1.2 in /Users/kazuki/opt/anaconda3/lib/python3.7/site-packages (from beautifulsoup4) (1.9.5)\n"
     ]
    }
   ],
   "source": [
    "!pip install beautifulsoup4"
   ]
  },
  {
   "cell_type": "code",
   "execution_count": 12,
   "metadata": {},
   "outputs": [],
   "source": [
    "import requests\n",
    "import sys\n",
    "from bs4 import BeautifulSoup"
   ]
  },
  {
   "cell_type": "code",
   "execution_count": 13,
   "metadata": {},
   "outputs": [],
   "source": [
    "# print(sys.version)\n",
    "# sys.path\n",
    "# sys.path.append( \"/Users/kazuki/opt/anaconda3/lib/python3.7/site-packages\" )"
   ]
  },
  {
   "cell_type": "code",
   "execution_count": 14,
   "metadata": {},
   "outputs": [
    {
     "data": {
      "text/plain": [
       "<Response [200]>"
      ]
     },
     "execution_count": 14,
     "metadata": {},
     "output_type": "execute_result"
    }
   ],
   "source": [
    "res = requests.get(\"https://race.netkeiba.com/odds/index.html?race_id=202206020111\")\n",
    "res"
   ]
  },
  {
   "cell_type": "code",
   "execution_count": 17,
   "metadata": {},
   "outputs": [],
   "source": [
    "soup = BeautifulSoup(res.content, 'html.parser')"
   ]
  },
  {
   "cell_type": "code",
   "execution_count": 20,
   "metadata": {},
   "outputs": [
    {
     "data": {
      "text/plain": [
       "[<tr id=\"ninki-data-1_1\">\n",
       " <td class=\"Ninki\">1</td>\n",
       " <td class=\"Waku\">\n",
       " <span></span>\n",
       " </td>\n",
       " <td><span id=\"uno-1_1\"></span></td>\n",
       " <td class=\"Mark_User\"><span class=\"MarkIcon Mark00\"><div></div></span></td>\n",
       " <td class=\"Horse_Name\"><a href=\"\" target=\"_blank\"><span id=\"name-1_1\"></span></a></td>\n",
       " <td class=\"Odds\"><span class=\"Odds\" id=\"odds-1_1\">---.-</span></td>\n",
       " <td class=\"Odds\"><span class=\"Odds\" id=\"odds-2_1\">---.-</span></td>\n",
       " </tr>]"
      ]
     },
     "execution_count": 20,
     "metadata": {},
     "output_type": "execute_result"
    }
   ],
   "source": [
    "soup.select(\"#ninki-data-1_1\")"
   ]
  },
  {
   "cell_type": "code",
   "execution_count": 21,
   "metadata": {},
   "outputs": [
    {
     "name": "stdout",
     "output_type": "stream",
     "text": [
      "datetime.datetime(2022, 2, 26, 22, 38, 3, 550146, tzinfo=datetime.timezone(datetime.timedelta(seconds=32400), 'JST'))\n"
     ]
    }
   ],
   "source": [
    "import datetime\n",
    "\n",
    "t_delta = datetime.timedelta(hours=9)\n",
    "JST = datetime.timezone(t_delta, 'JST')\n",
    "now = datetime.datetime.now(JST)\n",
    "print(repr(now))"
   ]
  },
  {
   "cell_type": "code",
   "execution_count": 23,
   "metadata": {},
   "outputs": [
    {
     "name": "stdout",
     "output_type": "stream",
     "text": [
      "202202262238\n"
     ]
    }
   ],
   "source": [
    "d = now.strftime('%Y%m%d%H%M')\n",
    "print(d)  # 20211104173728"
   ]
  }
 ],
 "metadata": {
  "kernelspec": {
   "display_name": "Python 3.8.0 64-bit ('3.8.0')",
   "language": "python",
   "name": "python38064bit3805fb8f00ac930455c81a41bf291e7590a"
  },
  "language_info": {
   "codemirror_mode": {
    "name": "ipython",
    "version": 3
   },
   "file_extension": ".py",
   "mimetype": "text/x-python",
   "name": "python",
   "nbconvert_exporter": "python",
   "pygments_lexer": "ipython3",
   "version": "3.8.0"
  }
 },
 "nbformat": 4,
 "nbformat_minor": 4
}
