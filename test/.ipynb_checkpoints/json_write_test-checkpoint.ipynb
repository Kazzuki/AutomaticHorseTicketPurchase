{
 "cells": [
  {
   "cell_type": "code",
   "execution_count": 1,
   "metadata": {},
   "outputs": [],
   "source": [
    "import json"
   ]
  },
  {
   "cell_type": "code",
   "execution_count": 2,
   "metadata": {},
   "outputs": [
    {
     "name": "stdout",
     "output_type": "stream",
     "text": [
      "<class 'dict'>\n"
     ]
    }
   ],
   "source": [
    "data = dict()\n",
    "print(type(data))"
   ]
  },
  {
   "cell_type": "code",
   "execution_count": 3,
   "metadata": {},
   "outputs": [],
   "source": [
    "{\n",
    "    \"Place\": \"中山\",\n",
    "    \"races\":[\n",
    "    {\n",
    "        \"raceNum\": 1,\n",
    "        \"raceName\": \"3歳未勝利\",\n",
    "        \"startTime\": 1005,\n",
    "        \"popularHorse\": [\n",
    "            {\"no\": 1, \"name\": \"レッドルゼル\", \"odds\": 4.1},\n",
    "            {\"no\": 2, \"name\": \"カフェファラオ\",\"odds\": 5.5}\n",
    "        ],\n",
    "        \"timestamp\": \"202202201530\"\n",
    "    },\n",
    "    {\n",
    "        \"raceNum\": 2,\n",
    "        \"raceName\": \"3歳未勝利\",\n",
    "        \"startTime\": 1035,\n",
    "        \"popularHorse\": [\n",
    "            {\"no\": 1, \"name\": \"レッドルゼル\", \"odds\": 4.1},\n",
    "            {\"no\": 2, \"name\": \"カフェファラオ\",\"odds\": 5.5}\n",
    "        ],\n",
    "        \"timestamp\": \"202202201530\"\n",
    "    }\n",
    "    ]\n",
    "}"
   ]
  },
  {
   "cell_type": "code",
   "execution_count": 4,
   "metadata": {},
   "outputs": [
    {
     "name": "stdout",
     "output_type": "stream",
     "text": [
      "{\n",
      "  \"racePlace\": \"東京\",\n",
      "  \"raceNum\": 11,\n",
      "  \"raceName\": \"フェブラリーS\",\n",
      "  \"popularHorse\": [\n",
      "    {\n",
      "      \"no\": 1,\n",
      "      \"name\": \"レッドルゼル\",\n",
      "      \"odds\": 4.1\n",
      "    },\n",
      "    {\n",
      "      \"no\": 2,\n",
      "      \"name\": \"カフェファラオ\",\n",
      "      \"odds\": 5.5\n",
      "    }\n",
      "  ],\n",
      "  \"timestamp\": \"202202201530\"\n",
      "}\n"
     ]
    }
   ],
   "source": [
    "print(json.dumps(data, ensure_ascii=False, indent=2))"
   ]
  },
  {
   "cell_type": "code",
   "execution_count": 10,
   "metadata": {},
   "outputs": [],
   "source": [
    "with open('database1.json', mode='wt', encoding='utf-8') as file:\n",
    "    json.dump(data, file, ensure_ascii=False, indent=2)"
   ]
  },
  {
   "cell_type": "code",
   "execution_count": null,
   "metadata": {},
   "outputs": [],
   "source": []
  }
 ],
 "metadata": {
  "kernelspec": {
   "display_name": "Python 3.8.0 64-bit ('3.8.0')",
   "language": "python",
   "name": "python38064bit3805fb8f00ac930455c81a41bf291e7590a"
  },
  "language_info": {
   "codemirror_mode": {
    "name": "ipython",
    "version": 3
   },
   "file_extension": ".py",
   "mimetype": "text/x-python",
   "name": "python",
   "nbconvert_exporter": "python",
   "pygments_lexer": "ipython3",
   "version": "3.8.0"
  }
 },
 "nbformat": 4,
 "nbformat_minor": 4
}
