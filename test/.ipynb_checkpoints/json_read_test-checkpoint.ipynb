{
 "cells": [
  {
   "cell_type": "code",
   "execution_count": 9,
   "metadata": {},
   "outputs": [
    {
     "name": "stdout",
     "output_type": "stream",
     "text": [
      "file:<_io.TextIOWrapper name='database.json' mode='rt' encoding='utf-8'>\n",
      "data:<class 'dict'>\n",
      "racePlace: 東京\n",
      "raceNum: 11\n",
      "raceName: フェブラリーS\n",
      "popularHorse: [{'no': 1, 'name': 'レッドルゼル', 'odds': 4.1}, {'no': 2, 'name': 'カフェファラオ', 'odds': 5.5}]\n",
      "no: 1\n",
      "name: レッドルゼル\n",
      "oods: 4.1\n",
      "no: 2\n",
      "name: カフェファラオ\n",
      "oods: 5.5\n"
     ]
    }
   ],
   "source": [
    "# JSONファイルからテキストストリーム生成\n",
    "with open('database.json', mode='rt', encoding='utf-8') as file:\n",
    "    print(f'file:{str(file)}')\n",
    "#   dic型を取得\n",
    "    data = json.load(file)\n",
    "    print(f'data:{str(type(data))}')\n",
    "    \n",
    "#   JSONデータから必要な箇所を出力\n",
    "#   print(f'racePlace: {data['racePlace']}') → これだとエラーになる\n",
    "    print(f'racePlace: {data[\"racePlace\"]}')\n",
    "    print(f'raceNum: {data[\"raceNum\"]}')\n",
    "    print(f'raceName: {data[\"raceName\"]}')\n",
    "    print(f'popularHorse: {data[\"popularHorse\"]}')\n",
    "#   オブジェクトの展開\n",
    "    for horse in data[\"popularHorse\"]:\n",
    "        print(f'no: {horse[\"no\"]}')\n",
    "        print(f'name: {horse[\"name\"]}')\n",
    "        print(f'oods: {horse[\"odds\"]}')"
   ]
  },
  {
   "cell_type": "code",
   "execution_count": null,
   "metadata": {},
   "outputs": [],
   "source": []
  }
 ],
 "metadata": {
  "kernelspec": {
   "display_name": "Python 3.8.0 64-bit ('3.8.0')",
   "language": "python",
   "name": "python38064bit3805fb8f00ac930455c81a41bf291e7590a"
  },
  "language_info": {
   "codemirror_mode": {
    "name": "ipython",
    "version": 3
   },
   "file_extension": ".py",
   "mimetype": "text/x-python",
   "name": "python",
   "nbconvert_exporter": "python",
   "pygments_lexer": "ipython3",
   "version": "3.8.0"
  }
 },
 "nbformat": 4,
 "nbformat_minor": 4
}
